{
 "cells": [
  {
   "metadata": {
    "ExecuteTime": {
     "end_time": "2024-10-06T12:45:47.767843Z",
     "start_time": "2024-10-06T12:45:41.735564Z"
    }
   },
   "cell_type": "code",
   "source": [
    "\n",
    "%pip install torchvision\n",
    "from torchvision import datasets\n",
    "from torchvision.transforms import ToTensor"
   ],
   "id": "a5631af58a978b65",
   "outputs": [
    {
     "name": "stdout",
     "output_type": "stream",
     "text": [
      "Collecting torchvision\r\n",
      "  Downloading torchvision-0.19.1-cp38-cp38-macosx_11_0_arm64.whl.metadata (6.0 kB)\r\n",
      "Requirement already satisfied: numpy in /opt/homebrew/anaconda3/envs/tf2/lib/python3.8/site-packages (from torchvision) (1.19.5)\r\n",
      "Requirement already satisfied: torch==2.4.1 in /opt/homebrew/anaconda3/envs/tf2/lib/python3.8/site-packages (from torchvision) (2.4.1)\r\n",
      "Collecting pillow!=8.3.*,>=5.3.0 (from torchvision)\r\n",
      "  Downloading pillow-10.4.0-cp38-cp38-macosx_11_0_arm64.whl.metadata (9.2 kB)\r\n",
      "Requirement already satisfied: filelock in /opt/homebrew/anaconda3/envs/tf2/lib/python3.8/site-packages (from torch==2.4.1->torchvision) (3.16.1)\r\n",
      "Requirement already satisfied: typing-extensions>=4.8.0 in /opt/homebrew/anaconda3/envs/tf2/lib/python3.8/site-packages (from torch==2.4.1->torchvision) (4.12.2)\r\n",
      "Requirement already satisfied: sympy in /opt/homebrew/anaconda3/envs/tf2/lib/python3.8/site-packages (from torch==2.4.1->torchvision) (1.13.3)\r\n",
      "Requirement already satisfied: networkx in /opt/homebrew/anaconda3/envs/tf2/lib/python3.8/site-packages (from torch==2.4.1->torchvision) (3.1)\r\n",
      "Requirement already satisfied: jinja2 in /opt/homebrew/anaconda3/envs/tf2/lib/python3.8/site-packages (from torch==2.4.1->torchvision) (3.1.4)\r\n",
      "Requirement already satisfied: fsspec in /opt/homebrew/anaconda3/envs/tf2/lib/python3.8/site-packages (from torch==2.4.1->torchvision) (2024.9.0)\r\n",
      "Requirement already satisfied: MarkupSafe>=2.0 in /opt/homebrew/anaconda3/envs/tf2/lib/python3.8/site-packages (from jinja2->torch==2.4.1->torchvision) (2.1.5)\r\n",
      "Requirement already satisfied: mpmath<1.4,>=1.1.0 in /opt/homebrew/anaconda3/envs/tf2/lib/python3.8/site-packages (from sympy->torch==2.4.1->torchvision) (1.3.0)\r\n",
      "Downloading torchvision-0.19.1-cp38-cp38-macosx_11_0_arm64.whl (1.7 MB)\r\n",
      "\u001B[2K   \u001B[90m━━━━━━━━━━━━━━━━━━━━━━━━━━━━━━━━━━━━━━━━\u001B[0m \u001B[32m1.7/1.7 MB\u001B[0m \u001B[31m11.5 MB/s\u001B[0m eta \u001B[36m0:00:00\u001B[0m\r\n",
      "\u001B[?25hDownloading pillow-10.4.0-cp38-cp38-macosx_11_0_arm64.whl (3.4 MB)\r\n",
      "\u001B[2K   \u001B[90m━━━━━━━━━━━━━━━━━━━━━━━━━━━━━━━━━━━━━━━━\u001B[0m \u001B[32m3.4/3.4 MB\u001B[0m \u001B[31m13.4 MB/s\u001B[0m eta \u001B[36m0:00:00\u001B[0ma \u001B[36m0:00:01\u001B[0m\r\n",
      "\u001B[?25hInstalling collected packages: pillow, torchvision\r\n",
      "  Attempting uninstall: pillow\r\n",
      "    Found existing installation: Pillow 8.3.2\r\n",
      "    Uninstalling Pillow-8.3.2:\r\n",
      "      Successfully uninstalled Pillow-8.3.2\r\n",
      "Successfully installed pillow-10.4.0 torchvision-0.19.1\r\n",
      "Note: you may need to restart the kernel to use updated packages.\n"
     ]
    }
   ],
   "execution_count": 2
  },
  {
   "metadata": {
    "ExecuteTime": {
     "end_time": "2024-10-06T13:19:40.388874Z",
     "start_time": "2024-10-06T13:19:40.351990Z"
    }
   },
   "cell_type": "code",
   "source": [
    "train_data = datasets.MNIST(\n",
    "    root='data',\n",
    "    train=True,\n",
    "    transform=ToTensor(),\n",
    "    download=True\n",
    ")\n",
    "\n",
    "test_data = datasets.MNIST(\n",
    "    root='data',\n",
    "    train=False,\n",
    "    transform=ToTensor(),\n",
    "    download=True\n",
    ")\n"
   ],
   "id": "3a4dd8baf7567887",
   "outputs": [],
   "execution_count": 36
  },
  {
   "metadata": {
    "ExecuteTime": {
     "end_time": "2024-10-06T13:19:40.622466Z",
     "start_time": "2024-10-06T13:19:40.620094Z"
    }
   },
   "cell_type": "code",
   "source": "train_data",
   "id": "b3dc3099aa876d9c",
   "outputs": [
    {
     "data": {
      "text/plain": [
       "Dataset MNIST\n",
       "    Number of datapoints: 60000\n",
       "    Root location: data\n",
       "    Split: Train\n",
       "    StandardTransform\n",
       "Transform: ToTensor()"
      ]
     },
     "execution_count": 37,
     "metadata": {},
     "output_type": "execute_result"
    }
   ],
   "execution_count": 37
  },
  {
   "metadata": {
    "ExecuteTime": {
     "end_time": "2024-10-06T13:19:40.999396Z",
     "start_time": "2024-10-06T13:19:40.994700Z"
    }
   },
   "cell_type": "code",
   "source": "test_data",
   "id": "7e5082842466f610",
   "outputs": [
    {
     "data": {
      "text/plain": [
       "Dataset MNIST\n",
       "    Number of datapoints: 10000\n",
       "    Root location: data\n",
       "    Split: Test\n",
       "    StandardTransform\n",
       "Transform: ToTensor()"
      ]
     },
     "execution_count": 38,
     "metadata": {},
     "output_type": "execute_result"
    }
   ],
   "execution_count": 38
  },
  {
   "metadata": {
    "ExecuteTime": {
     "end_time": "2024-10-06T13:46:22.572560Z",
     "start_time": "2024-10-06T13:46:22.568069Z"
    }
   },
   "cell_type": "code",
   "source": [
    "from torch.utils.data import DataLoader\n",
    "\n",
    "loaders = {\n",
    "    'train': DataLoader(train_data, batch_size=100, shuffle=True, num_workers=1),\n",
    "    'test': DataLoader(test_data, batch_size=100, shuffle=True, num_workers=1),\n",
    "}"
   ],
   "id": "d69e7731f3a9095c",
   "outputs": [],
   "execution_count": 67
  },
  {
   "metadata": {
    "ExecuteTime": {
     "end_time": "2024-10-06T13:49:57.832240Z",
     "start_time": "2024-10-06T13:49:55.694253Z"
    }
   },
   "cell_type": "code",
   "source": [
    "# Make sure that inputs are in the correct shape\n",
    "train_batches = []\n",
    "for batch in loaders['train']:\n",
    "    inputs, labels = batch\n",
    "    inps = inputs.view(inputs.size(0), -1)\n",
    "    train_batches.append((inps, labels))"
   ],
   "id": "761acc7ddcdaa012",
   "outputs": [],
   "execution_count": 76
  },
  {
   "metadata": {
    "ExecuteTime": {
     "end_time": "2024-10-06T13:49:59.538682Z",
     "start_time": "2024-10-06T13:49:59.530554Z"
    }
   },
   "cell_type": "code",
   "source": [
    "import torch.nn as nn\n",
    "\n",
    "net = nn.Sequential(nn.Linear(784, 500, bias=False),\n",
    "                    nn.BatchNorm1d(500),\n",
    "                    nn.ReLU(),\n",
    "                    nn.Linear(500, 500, bias=False),\n",
    "                    nn.BatchNorm1d(500),\n",
    "                    nn.ReLU(),\n",
    "                    nn.Linear(500, 10),\n",
    "                    nn.LogSoftmax(dim=1))\n"
   ],
   "id": "9aa21f1f24a2fc9e",
   "outputs": [],
   "execution_count": 77
  },
  {
   "metadata": {
    "ExecuteTime": {
     "end_time": "2024-10-06T13:50:01.481547Z",
     "start_time": "2024-10-06T13:50:01.477500Z"
    }
   },
   "cell_type": "code",
   "source": [
    "from torch.optim import SGD\n",
    "\n",
    "optimizer = SGD(net.parameters(), lr=0.01)"
   ],
   "id": "17470b7f86f353d4",
   "outputs": [],
   "execution_count": 78
  },
  {
   "metadata": {
    "ExecuteTime": {
     "end_time": "2024-10-06T13:50:04.761021Z",
     "start_time": "2024-10-06T13:50:04.758138Z"
    }
   },
   "cell_type": "code",
   "source": [
    "#init stat arrays\n",
    "lossi = []"
   ],
   "id": "49e96211c360d48e",
   "outputs": [],
   "execution_count": 79
  },
  {
   "metadata": {
    "ExecuteTime": {
     "end_time": "2024-10-06T13:50:11.703109Z",
     "start_time": "2024-10-06T13:50:07.487182Z"
    }
   },
   "cell_type": "code",
   "source": [
    "import torch.nn.functional as F\n",
    "\n",
    "max_steps = len(train_batches)\n",
    "epochs = 10\n",
    "\n",
    "for epoch in range(epochs):\n",
    "    for i, batch in enumerate(train_batches):\n",
    "        inputs, labels = batch\n",
    "        inps = inputs\n",
    "\n",
    "        #forward\n",
    "        for layer in net:\n",
    "            inps = layer(inps)\n",
    "\n",
    "        #calcuate loss\n",
    "        loss = F.cross_entropy(inps, labels)\n",
    "\n",
    "        #zero grad \n",
    "        for layer in net:\n",
    "            layer.zero_grad()\n",
    "\n",
    "        #back propagation\n",
    "        loss.backward()\n",
    "\n",
    "        #update\n",
    "        lr = 0.1 if i < max_steps / 2 else 0.01\n",
    "        for param_group in optimizer.param_groups:\n",
    "            param_group['lr'] = lr\n",
    "        optimizer.step()\n",
    "\n",
    "        #collect stats\n",
    "        lossi.append(loss.item())\n",
    "    print(f'Epoch {epoch + 1}/{epochs}, Loss: {loss.item():.4f}')\n",
    "\n"
   ],
   "id": "784c6e469bda78b8",
   "outputs": [
    {
     "name": "stdout",
     "output_type": "stream",
     "text": [
      "Epoch 1/10, Loss: 0.1200\n",
      "Epoch 2/10, Loss: 0.0765\n",
      "Epoch 3/10, Loss: 0.0526\n",
      "Epoch 4/10, Loss: 0.0371\n",
      "Epoch 5/10, Loss: 0.0284\n",
      "Epoch 6/10, Loss: 0.0239\n",
      "Epoch 7/10, Loss: 0.0200\n",
      "Epoch 8/10, Loss: 0.0171\n",
      "Epoch 9/10, Loss: 0.0146\n",
      "Epoch 10/10, Loss: 0.0125\n"
     ]
    }
   ],
   "execution_count": 80
  },
  {
   "metadata": {
    "ExecuteTime": {
     "end_time": "2024-10-06T13:50:13.934015Z",
     "start_time": "2024-10-06T13:50:13.428081Z"
    }
   },
   "cell_type": "code",
   "source": [
    "import matplotlib.pyplot as plt\n",
    "\n",
    "# Create a plot of the training losses\n",
    "plt.figure(figsize=(10, 6))\n",
    "plt.plot(lossi, label=\"Training Loss\")\n",
    "plt.xlabel(\"Iteration\")\n",
    "plt.ylabel(\"Loss\")\n",
    "plt.title(\"Training Loss Over Time\")\n",
    "plt.legend()\n",
    "plt.grid(True)\n",
    "plt.show()\n"
   ],
   "id": "51fe4bdfd0e9edaa",
   "outputs": [
    {
     "data": {
      "text/plain": [
       "<Figure size 1000x600 with 1 Axes>"
      ],
      "image/png": "[encoded data removed]"
     },
     "metadata": {},
     "output_type": "display_data"
    }
   ],
   "execution_count": 81
  },
  {
   "metadata": {
    "ExecuteTime": {
     "end_time": "2024-10-06T13:46:56.220227Z",
     "start_time": "2024-10-06T13:46:55.060786Z"
    }
   },
   "cell_type": "code",
   "source": [
    "import torch\n",
    "\n",
    "net.eval()\n",
    "\n",
    "corrct = 0\n",
    "total = 0\n",
    "\n",
    "with torch.no_grad():\n",
    "    for batch in loaders['test']:\n",
    "        inputs, labels = batch\n",
    "        inputs = inputs.view(inputs.size(0), -1)\n",
    "        outputs = net(inputs)\n",
    "\n",
    "        _, predicted = torch.max(outputs.data, 1)\n",
    "\n",
    "        total += labels.size(0)\n",
    "        corrct += (predicted == labels).sum().item()\n",
    "\n",
    "accuracy = corrct / total\n",
    "print(f'Accuracy: {accuracy * 100:.2f}%')\n"
   ],
   "id": "ad8b628098549d13",
   "outputs": [
    {
     "name": "stdout",
     "output_type": "stream",
     "text": [
      "Accuracy: 9.80%\n"
     ]
    }
   ],
   "execution_count": 75
  },
  {
   "metadata": {},
   "cell_type": "code",
   "outputs": [],
   "execution_count": null,
   "source": "",
   "id": "d9a3c5c2695a4e32"
  }
 ],
 "metadata": {
  "kernelspec": {
   "display_name": "Python 3",
   "language": "python",
   "name": "python3"
  },
  "language_info": {
   "codemirror_mode": {
    "name": "ipython",
    "version": 2
   },
   "file_extension": ".py",
   "mimetype": "text/x-python",
   "name": "python",
   "nbconvert_exporter": "python",
   "pygments_lexer": "ipython2",
   "version": "2.7.6"
  }
 },
 "nbformat": 4,
 "nbformat_minor": 5
}
